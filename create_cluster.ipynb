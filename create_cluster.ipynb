{
 "cells": [
  {
   "cell_type": "code",
   "execution_count": 0,
   "metadata": {
    "application/vnd.databricks.v1+cell": {
     "cellMetadata": {
      "byteLimit": 2048000,
      "rowLimit": 10000
     },
     "inputWidgets": {},
     "nuid": "81810cda-9e72-4726-826e-c0d29ecb66cd",
     "showTitle": false,
     "title": ""
    }
   },
   "outputs": [],
   "source": [
    "%pip install --upgrade databricks-sdk\n",
    "dbutils.library.restartPython()"
   ]
  },
  {
   "cell_type": "code",
   "execution_count": 0,
   "metadata": {
    "application/vnd.databricks.v1+cell": {
     "cellMetadata": {
      "byteLimit": 2048000,
      "rowLimit": 10000
     },
     "inputWidgets": {},
     "nuid": "fa69b362-02bb-4940-ac88-c49da84a4e70",
     "showTitle": false,
     "title": ""
    }
   },
   "outputs": [
    {
     "name": "stdout",
     "output_type": "stream",
     "text": [
      "0.18.0\n"
     ]
    }
   ],
   "source": [
    "import databricks.sdk\n",
    "print(databricks.sdk.version.__version__)\n"
   ]
  },
  {
   "cell_type": "code",
   "execution_count": 0,
   "metadata": {
    "application/vnd.databricks.v1+cell": {
     "cellMetadata": {
      "byteLimit": 2048000,
      "rowLimit": 10000
     },
     "inputWidgets": {},
     "nuid": "222dacc6-9055-4225-b688-94c3d28d5d47",
     "showTitle": false,
     "title": ""
    }
   },
   "outputs": [],
   "source": [
    "# ワークスペース用クライアントを作成、クラスター再起動のたびに実行してください\n",
    "\n",
    "from databricks.sdk import WorkspaceClient\n",
    "\n",
    "w = WorkspaceClient(host=\"\", token=\"\")\n"
   ]
  },
  {
   "cell_type": "code",
   "execution_count": 0,
   "metadata": {
    "application/vnd.databricks.v1+cell": {
     "cellMetadata": {
      "byteLimit": 2048000,
      "rowLimit": 10000
     },
     "inputWidgets": {},
     "nuid": "66cb6e4f-0728-453b-9137-6933c736211d",
     "showTitle": false,
     "title": ""
    }
   },
   "outputs": [],
   "source": [
    "from databricks.sdk import AccountClient\n",
    "\n",
    "a = AccountClient(\n",
    "  host                = \"https://accounts.azuredatabricks.net\",\n",
    "  account_id          = \"\",\n",
    "  client_id     = \"\",\n",
    "  client_secret = \"\",\n",
    "  auth_type           = \"\"\n",
    ")\n"
   ]
  },
  {
   "cell_type": "code",
   "execution_count": 0,
   "metadata": {
    "application/vnd.databricks.v1+cell": {
     "cellMetadata": {
      "byteLimit": 2048000,
      "rowLimit": 10000
     },
     "inputWidgets": {},
     "nuid": "4040db89-8d99-418d-b28c-acd9711253bd",
     "showTitle": false,
     "title": ""
    }
   },
   "outputs": [],
   "source": [
    "import os, time, pprint\n",
    "from databricks.sdk.service import compute\n",
    "from databricks.sdk.service.compute import ClusterAccessControlRequest"
   ]
  },
  {
   "cell_type": "code",
   "execution_count": 0,
   "metadata": {
    "application/vnd.databricks.v1+cell": {
     "cellMetadata": {
      "byteLimit": 2048000,
      "rowLimit": 10000
     },
     "inputWidgets": {},
     "nuid": "63a39db1-6fb2-4c74-9532-956203e87fd4",
     "showTitle": false,
     "title": ""
    }
   },
   "outputs": [],
   "source": [
    "# クラスター作成\n",
    "def create_cluster(cluster_name,user_name,node = 'Standard_DS3_v2'):\n",
    "\n",
    "  latest = w.clusters.select_spark_version(latest=True,ml=True)\n",
    "\n",
    "\n",
    "  clstr = w.clusters.create(cluster_name=cluster_name,\n",
    "                            spark_version=latest,\n",
    "                            autotermination_minutes=15,\n",
    "                            single_user_name= user_name,\n",
    "                            spark_conf={\n",
    "                              \"spark.databricks.cluster.profile\": \"singleNode\",\n",
    "                              \"spark.master\": \"local[*, 4]\"\n",
    "                            },\n",
    "                            node_type_id=node,\n",
    "                            custom_tags={\n",
    "                              \"ResourceClass\": \"SingleNode\",\n",
    "                              \"Type\": \"Personal\"\n",
    "                            },\n",
    "                            policy_id=\"0018B70A5594EB56\",\n",
    "                            data_security_mode=compute.DataSecurityMode.SINGLE_USER\n",
    "                            )\n",
    "  w.clusters.set_permissions(cluster_id=clstr.cluster_id,access_control_list=[ClusterAccessControlRequest(user_name=user_name,permission_level=compute.ClusterPermissionLevel.CAN_RESTART)])\n",
    "  \n"
   ]
  },
  {
   "cell_type": "code",
   "execution_count": 0,
   "metadata": {
    "application/vnd.databricks.v1+cell": {
     "cellMetadata": {
      "byteLimit": 2048000,
      "rowLimit": 10000
     },
     "inputWidgets": {},
     "nuid": "a1a74df9-1458-4a74-908f-b3b4003cacbf",
     "showTitle": false,
     "title": ""
    }
   },
   "outputs": [],
   "source": [
    "#0207 払い出し除外用\n",
    "\n",
    "usrid_list = ['']"
   ]
  },
  {
   "cell_type": "code",
   "execution_count": 0,
   "metadata": {
    "application/vnd.databricks.v1+cell": {
     "cellMetadata": {
      "byteLimit": 2048000,
      "rowLimit": 10000
     },
     "inputWidgets": {},
     "nuid": "b5681e47-796a-44de-8ce5-df6cb09390ae",
     "showTitle": false,
     "title": ""
    }
   },
   "outputs": [],
   "source": [
    "for u in usrid_list:\n",
    "    try:\n",
    "        clst_n = u + \" 's cluster\"\n",
    "        usr_n = u\n",
    "        create_cluster(cluster_name = clst_n, user_name = usr_n)\n",
    "    except(Exception) as e:\n",
    "        print(u, ' does not exist')"
   ]
  }
 ],
 "metadata": {
  "application/vnd.databricks.v1+notebook": {
   "dashboards": [],
   "language": "python",
   "notebookMetadata": {
    "pythonIndentUnit": 4
   },
   "notebookName": "create_cluster",
   "widgets": {}
  },
  "language_info": {
   "name": "python"
  }
 },
 "nbformat": 4,
 "nbformat_minor": 0
}
